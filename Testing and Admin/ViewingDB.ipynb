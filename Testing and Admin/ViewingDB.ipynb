{
 "cells": [
  {
   "cell_type": "markdown",
   "metadata": {},
   "source": [
    "# Opening Old Database and determining Contents\n",
    "- Learning how to catagorize data"
   ]
  },
  {
   "cell_type": "code",
   "execution_count": 1,
   "metadata": {},
   "outputs": [
    {
     "ename": "IOException",
     "evalue": "IO Error: Extension \"C:\\Users\\rybot\\.duckdb\\extensions\\v1.0.0\\windows_amd64\\sqlite_scanner.duckdb_extension\" not found.\nExtension \"sqlite\" is an existing extension.\n\nInstall it first using \"INSTALL sqlite\".",
     "output_type": "error",
     "traceback": [
      "\u001b[1;31m---------------------------------------------------------------------------\u001b[0m",
      "\u001b[1;31mIOException\u001b[0m                               Traceback (most recent call last)",
      "Cell \u001b[1;32mIn[1], line 4\u001b[0m\n\u001b[0;32m      1\u001b[0m \u001b[39mimport\u001b[39;00m \u001b[39mpandas\u001b[39;00m \u001b[39mas\u001b[39;00m \u001b[39mpd\u001b[39;00m\n\u001b[0;32m      2\u001b[0m \u001b[39mimport\u001b[39;00m \u001b[39mduckdb\u001b[39;00m \n\u001b[1;32m----> 4\u001b[0m db \u001b[39m=\u001b[39m duckdb\u001b[39m.\u001b[39;49mconnect(\u001b[39mr\u001b[39;49m\u001b[39m\"\u001b[39;49m\u001b[39mC:\u001b[39;49m\u001b[39m\\\u001b[39;49m\u001b[39mUsers\u001b[39;49m\u001b[39m\\\u001b[39;49m\u001b[39mrybot\u001b[39;49m\u001b[39m\\\u001b[39;49m\u001b[39mDesktop\u001b[39;49m\u001b[39m\\\u001b[39;49m\u001b[39mdb.sqlite3\u001b[39;49m\u001b[39m\"\u001b[39;49m)\n",
      "\u001b[1;31mIOException\u001b[0m: IO Error: Extension \"C:\\Users\\rybot\\.duckdb\\extensions\\v1.0.0\\windows_amd64\\sqlite_scanner.duckdb_extension\" not found.\nExtension \"sqlite\" is an existing extension.\n\nInstall it first using \"INSTALL sqlite\"."
     ]
    }
   ],
   "source": [
    "import pandas as pd\n",
    "import duckdb \n",
    "\n",
    "\n",
    "\n"
   ]
  }
 ],
 "metadata": {
  "kernelspec": {
   "display_name": "Python 3",
   "language": "python",
   "name": "python3"
  },
  "language_info": {
   "codemirror_mode": {
    "name": "ipython",
    "version": 3
   },
   "file_extension": ".py",
   "mimetype": "text/x-python",
   "name": "python",
   "nbconvert_exporter": "python",
   "pygments_lexer": "ipython3",
   "version": "3.11.4"
  },
  "orig_nbformat": 4
 },
 "nbformat": 4,
 "nbformat_minor": 2
}
